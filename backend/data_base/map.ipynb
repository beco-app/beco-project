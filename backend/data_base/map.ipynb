{
 "cells": [
  {
   "cell_type": "code",
   "execution_count": 27,
   "id": "50a8560f",
   "metadata": {},
   "outputs": [
    {
     "data": {
      "text/html": [
       "<div style=\"width:100%;\"><div style=\"position:relative;width:100%;height:0;padding-bottom:60%;\"><iframe src=\"data:text/html;charset=utf-8;base64,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\" style=\"position:absolute;width:100%;height:100%;left:0;top:0;border:none !important;\" allowfullscreen webkitallowfullscreen mozallowfullscreen></iframe></div></div>"
      ],
      "text/plain": [
       "<folium.folium.Map at 0x129348f10>"
      ]
     },
     "execution_count": 27,
     "metadata": {},
     "output_type": "execute_result"
    }
   ],
   "source": [
    "import folium\n",
    "\n",
    "\n",
    "m = folium.Map(\n",
    "    location=[41.3825, 2.176944],\n",
    "    zoom_start=12\n",
    ")\n",
    "\n",
    "tooltip = 'asdklñf Mayor'\n",
    "\n",
    "folium.Marker([41.3825, 2.176944], popup='Plaza Mayor', tooltip=tooltip).add_to(m)\n",
    "\n",
    "m"
   ]
  },
  {
   "cell_type": "code",
   "execution_count": null,
   "id": "adf79202",
   "metadata": {},
   "outputs": [],
   "source": []
  },
  {
   "cell_type": "code",
   "execution_count": 28,
   "id": "6e9be168",
   "metadata": {},
   "outputs": [],
   "source": [
    "import folium\n",
    "from folium.features import DivIcon\n",
    "import folium.plugins\n",
    "import numpy as np\n",
    "\n",
    "def show_shops_map(shops, my_map=None):\n",
    "    def draw_shop(shop, color, fill_opacity=0.6, radius=2, txt=''):\n",
    "        lat, lon = shops.location\n",
    "        return folium.CircleMarker(\n",
    "            location=[lat, lon], \n",
    "            popup = f'name:{shop.shopname}\\n'+txt, \n",
    "            radius = max(0.01, radius), \n",
    "            color = color, \n",
    "            fill_opacity = fill_opacity,\n",
    "            weight = 2, # gruix perimetre\n",
    "            fill = True,\n",
    "            fill_color = color\n",
    "        )\n",
    "\n",
    "    mymap = folium.Map(location=(41.401361, 2.174317), zoom_start=14, tiles=\"cartodbpositron\", control_scale=True)\n",
    "\n",
    "    all_shops_group = folium.FeatureGroup('Shops', overlay=True) # Pots fer capes per filtrar a posteriori\n",
    "    for i, shop in enumerate(shops):\n",
    "        draw_shop(\n",
    "            shop,\n",
    "            'blue',\n",
    "            radius=(shop.number_of_transactions**0.5716)*1.2, #formula per matenir proporcions visuals humanes\n",
    "            txt=f'Transctions:{np.round(shop.number_of_transactions**0.5716*1.2, 2)}',\n",
    "        ).add_to(all_shops_group)\n",
    "\n",
    "    all_shops_group.add_to(mymap)\n",
    "    folium.LayerControl(collapsed=False).add_to(mymap)\n",
    "    mymap.keep_in_front(all_shops_group)\n",
    "    mymap.add_child(folium.plugins.Fullscreen())\n",
    "    return mymap"
   ]
  },
  {
   "cell_type": "code",
   "execution_count": 29,
   "id": "da573e77",
   "metadata": {},
   "outputs": [
    {
     "name": "stdout",
     "output_type": "stream",
     "text": [
      "/Users/tomas.gadea/tomasgadea/ACADEMIC/GCED/q6/PE/beco-project/backend/data_base\n"
     ]
    }
   ],
   "source": [
    "import pandas as pd\n",
    "import os\n",
    "import sys\n",
    "print(os.getcwd())\n",
    "sys.path.append(\"/Users/tomas.gadea/tomasgadea/ACADEMIC/GCED/q6/PE/beco-project/\")\n"
   ]
  },
  {
   "cell_type": "code",
   "execution_count": 34,
   "id": "7c703ddb",
   "metadata": {},
   "outputs": [
    {
     "data": {
      "text/plain": [
       "0        [41.4004585, 2.2033979]\n",
       "1        [41.4046178, 2.1560169]\n",
       "2        [41.4050828, 2.1734883]\n",
       "3        [41.4057595, 2.1736695]\n",
       "4        [41.3936829, 2.1702138]\n",
       "                 ...            \n",
       "273    [41.40295122, 2.20223109]\n",
       "274      [41.4026257, 2.1999129]\n",
       "275     [41.4018809, 2.20072905]\n",
       "276    [41.40219475, 2.19993512]\n",
       "277      [41.4003565, 2.2015885]\n",
       "Name: location, Length: 278, dtype: object"
      ]
     },
     "execution_count": 34,
     "metadata": {},
     "output_type": "execute_result"
    }
   ],
   "source": [
    "shops = pd.read_csv(\"/Users/tomas.gadea/Desktop/shops.csv\", index_col=0)\n",
    "shops.location"
   ]
  },
  {
   "cell_type": "code",
   "execution_count": null,
   "id": "287feac7",
   "metadata": {},
   "outputs": [],
   "source": []
  }
 ],
 "metadata": {
  "kernelspec": {
   "display_name": "Python 3 (ipykernel)",
   "language": "python",
   "name": "python3"
  },
  "language_info": {
   "codemirror_mode": {
    "name": "ipython",
    "version": 3
   },
   "file_extension": ".py",
   "mimetype": "text/x-python",
   "name": "python",
   "nbconvert_exporter": "python",
   "pygments_lexer": "ipython3",
   "version": "3.9.10"
  }
 },
 "nbformat": 4,
 "nbformat_minor": 5
}
