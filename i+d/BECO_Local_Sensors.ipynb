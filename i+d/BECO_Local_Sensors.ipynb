{
  "nbformat": 4,
  "nbformat_minor": 0,
  "metadata": {
    "colab": {
      "name": "BECO-Local_Sensors.ipynb",
      "provenance": [],
      "collapsed_sections": []
    },
    "kernelspec": {
      "name": "python3",
      "display_name": "Python 3"
    },
    "language_info": {
      "name": "python"
    }
  },
  "cells": [
    {
      "cell_type": "markdown",
      "source": [
        "### Imports"
      ],
      "metadata": {
        "id": "DQeR4Si1bass"
      }
    },
    {
      "cell_type": "code",
      "source": [
        "from sklearn.neighbors import BallTree\n",
        "import numpy as np\n",
        "from numpy import pi\n",
        "import pandas as pd\n",
        "import hashlib\n",
        "import requests\n",
        "import json"
      ],
      "metadata": {
        "id": "_D-xE0IDbYLj"
      },
      "execution_count": null,
      "outputs": []
    },
    {
      "cell_type": "markdown",
      "source": [
        "### Air Qualty Data"
      ],
      "metadata": {
        "id": "CKTJIxypbBpl"
      }
    },
    {
      "cell_type": "code",
      "execution_count": null,
      "metadata": {
        "id": "3UkMz3LUGqDi"
      },
      "outputs": [],
      "source": [
        "link1 = 'https://api.waqi.info/feed/geo:41.402746;2.175653/?token=5ba0f3024f257b103b04cc3fd569a67994c57e2e'\n",
        "link2 = 'https://api.waqi.info/search/?token=5ba0f3024f257b103b04cc3fd569a67994c57e2e&keyword=barcelona'\n",
        "file = requests.get(link2)\n",
        "res=json.loads(file.text) # ara res és un json (diccionari de diccionaris)"
      ]
    },
    {
      "cell_type": "code",
      "source": [
        "res"
      ],
      "metadata": {
        "id": "G3JUFjYFiKAt",
        "outputId": "8963ce62-def8-4ca7-e500-83c57d66c5d0",
        "colab": {
          "base_uri": "https://localhost:8080/"
        }
      },
      "execution_count": null,
      "outputs": [
        {
          "output_type": "execute_result",
          "data": {
            "text/plain": [
              "{'data': [{'aqi': '46',\n",
              "   'station': {'country': 'ES',\n",
              "    'geo': [41.41843, 2.1238973],\n",
              "    'name': 'Barcelona, Catalunya, Spain',\n",
              "    'url': 'spain/catalunya/barcelona'},\n",
              "   'time': {'stime': '2022-03-11 11:00:00',\n",
              "    'tz': '+01:00',\n",
              "    'vtime': 1646992800},\n",
              "   'uid': 11762},\n",
              "  {'aqi': '37',\n",
              "   'station': {'country': 'ES',\n",
              "    'geo': [41.42608, 2.1479921],\n",
              "    'name': \"Barcelona (Parc Vall d'Hebrón), Catalunya, Spain\",\n",
              "    'url': 'spain/catalunya/barcelona-parc-vall-dhebron'},\n",
              "   'time': {'stime': '2022-03-15 04:00:00',\n",
              "    'tz': '+01:00',\n",
              "    'vtime': 1647313200},\n",
              "   'uid': 10533},\n",
              "  {'aqi': '35',\n",
              "   'station': {'country': 'ES',\n",
              "    'geo': [41.387486, 2.1151497],\n",
              "    'name': 'Barcelona (Palau Reial), Catalunya, Spain',\n",
              "    'url': 'spain/catalunya/barcelona-palau-reial'},\n",
              "   'time': {'stime': '2022-03-15 04:00:00',\n",
              "    'tz': '+01:00',\n",
              "    'vtime': 1647313200},\n",
              "   'uid': 10532},\n",
              "  {'aqi': '35',\n",
              "   'station': {'country': 'ES',\n",
              "    'geo': [41.370502, 2.114973],\n",
              "    'name': \"l'Hospitalet de Llobregat, Catalunya, Spain\",\n",
              "    'url': 'spain/catalunya/lhospitalet-de-llobregat'},\n",
              "   'time': {'stime': '2022-03-15 04:00:00',\n",
              "    'tz': '+01:00',\n",
              "    'vtime': 1647313200},\n",
              "   'uid': 6681},\n",
              "  {'aqi': '24',\n",
              "   'station': {'country': 'ES',\n",
              "    'geo': [41.42562, 2.2222447],\n",
              "    'name': 'Sant Adrià de Besòs, Catalunya, Spain',\n",
              "    'url': 'spain/catalunya/sant-adria-de-besos'},\n",
              "   'time': {'stime': '2022-03-15 04:00:00',\n",
              "    'tz': '+01:00',\n",
              "    'vtime': 1647313200},\n",
              "   'uid': 6677},\n",
              "  {'aqi': '24',\n",
              "   'station': {'country': 'ES',\n",
              "    'geo': [41.4698, 2.1842334],\n",
              "    'name': 'Montcada i Reixac (Can Sant Joan), Catalunya, Spain',\n",
              "    'url': 'spain/catalunya/montcada-i-reixac-can-sant-joan'},\n",
              "   'time': {'stime': '2022-03-11 11:00:00',\n",
              "    'tz': '+01:00',\n",
              "    'vtime': 1646992800},\n",
              "   'uid': 6674},\n",
              "  {'aqi': '-',\n",
              "   'station': {'country': 'ES',\n",
              "    'geo': [41.38534, 2.153822],\n",
              "    'name': 'Barcelona (Eixample), Catalunya, Spain',\n",
              "    'url': 'spain/catalunya/barcelona-eixample'},\n",
              "   'time': {'stime': '2022-03-15 04:00:00',\n",
              "    'tz': '+01:00',\n",
              "    'vtime': 1647313200},\n",
              "   'uid': 6669},\n",
              "  {'aqi': '-',\n",
              "   'station': {'country': 'ES',\n",
              "    'geo': [41.40388, 2.2045226],\n",
              "    'name': 'Barcelona (Poblenou), Catalunya, Spain',\n",
              "    'url': 'spain/catalunya/barcelona-poblenou'},\n",
              "   'time': {'stime': '2022-03-15 04:00:00',\n",
              "    'tz': '+01:00',\n",
              "    'vtime': 1647313200},\n",
              "   'uid': 10534},\n",
              "  {'aqi': '-',\n",
              "   'station': {'country': 'ES',\n",
              "    'geo': [41.398743, 2.1533852],\n",
              "    'name': 'Barcelona (Gràcia-St.Gervasi), Catalunya, Spain',\n",
              "    'url': 'spain/catalunya/barcelona-gracia-st.gervasi'},\n",
              "   'time': {'stime': '2022-03-15 04:00:00',\n",
              "    'tz': '+01:00',\n",
              "    'vtime': 1647313200},\n",
              "   'uid': 11758}],\n",
              " 'status': 'ok'}"
            ]
          },
          "metadata": {},
          "execution_count": 22
        }
      ]
    },
    {
      "cell_type": "code",
      "source": [
        "for v in res['data']:\n",
        "  print(v['uid'], v['aqi'], v['time']['stime'])\n",
        "  print('-'*20)"
      ],
      "metadata": {
        "colab": {
          "base_uri": "https://localhost:8080/"
        },
        "id": "NFbEZhQ_HBCJ",
        "outputId": "8b038d6b-c6a6-451a-e04f-01aa4499533a"
      },
      "execution_count": null,
      "outputs": [
        {
          "output_type": "stream",
          "name": "stdout",
          "text": [
            "11762 46 2022-03-11 11:00:00\n",
            "--------------------\n",
            "10533 37 2022-03-15 03:00:00\n",
            "--------------------\n",
            "10532 35 2022-03-15 03:00:00\n",
            "--------------------\n",
            "6681 35 2022-03-15 03:00:00\n",
            "--------------------\n",
            "6674 24 2022-03-11 11:00:00\n",
            "--------------------\n",
            "6677 20 2022-03-15 03:00:00\n",
            "--------------------\n",
            "6669 - 2022-03-15 03:00:00\n",
            "--------------------\n",
            "10534 - 2022-03-15 03:00:00\n",
            "--------------------\n",
            "11758 - 2022-03-15 03:00:00\n",
            "--------------------\n"
          ]
        }
      ]
    },
    {
      "cell_type": "markdown",
      "source": [
        "### Stations"
      ],
      "metadata": {
        "id": "hxK45trbbnba"
      }
    },
    {
      "cell_type": "code",
      "source": [
        "station_names = [\n",
        "  \"Barcelona, Catalunya, Spain\",\n",
        "  \"l'Hospitalet de Llobregat, Catalunya, Spain\",\n",
        "  \"Sant Adrià de Besòs, Catalunya, Spain\",\n",
        "  \"Montcada i Reixac (Can Sant Joan), Catalunya, Spain\",\n",
        "  \"Barcelona (Palau Reial), Catalunya, Spain\",\n",
        "  \"Barcelona (Poblenou), Catalunya, Spain\",\n",
        "  \"Barcelona (Eixample), Catalunya, Spain\",\n",
        "  \"Barcelona (Gràcia-St.Gervasi), Catalunya, Spain\",\n",
        "  \"Barcelona (Parc Vall d'Hebrón), Catalunya, Spain\"\n",
        "]\n",
        "station_coords = [\n",
        " (41.41843, 2.1238973),\n",
        " (41.370502, 2.114973),\n",
        " (41.42562, 2.2222447),\n",
        " (41.4698, 2.1842334),\n",
        " (41.387486, 2.1151497),\n",
        " (41.40388, 2.2045226),\n",
        " (41.38534, 2.153822),\n",
        " (41.398743, 2.1533852),\n",
        " (41.42608, 2.1479921)\n",
        "]\n",
        "\n",
        "station_ids = [\n",
        "  11762,\n",
        "  6681,\n",
        "  6677,\n",
        "  6674,\n",
        "  10532,\n",
        "  10534,\n",
        "  6669,\n",
        "  11758,\n",
        "  10533\n",
        "]\n",
        "\n",
        "station_lats, station_lons = zip(*station_coords)\n",
        "\n",
        "\n",
        "stations = pd.DataFrame({'id': station_ids,\n",
        "                          'nom': station_names,\n",
        "                          'lat': station_lats,\n",
        "                          'lon': station_lons})"
      ],
      "metadata": {
        "id": "1ZxH3vm4HEw_"
      },
      "execution_count": null,
      "outputs": []
    },
    {
      "cell_type": "code",
      "source": [
        "stations"
      ],
      "metadata": {
        "colab": {
          "base_uri": "https://localhost:8080/",
          "height": 332
        },
        "id": "apXQ7JS5bWiF",
        "outputId": "03adb62d-b185-40d5-d202-1b9b7a065ec2"
      },
      "execution_count": null,
      "outputs": [
        {
          "output_type": "execute_result",
          "data": {
            "text/plain": [
              "      id                                                nom        lat  \\\n",
              "0  11762                        Barcelona, Catalunya, Spain  41.418430   \n",
              "1   6681        l'Hospitalet de Llobregat, Catalunya, Spain  41.370502   \n",
              "2   6677              Sant Adrià de Besòs, Catalunya, Spain  41.425620   \n",
              "3   6674  Montcada i Reixac (Can Sant Joan), Catalunya, ...  41.469800   \n",
              "4  10532          Barcelona (Palau Reial), Catalunya, Spain  41.387486   \n",
              "5  10534             Barcelona (Poblenou), Catalunya, Spain  41.403880   \n",
              "6   6669             Barcelona (Eixample), Catalunya, Spain  41.385340   \n",
              "7  11758    Barcelona (Gràcia-St.Gervasi), Catalunya, Spain  41.398743   \n",
              "8  10533   Barcelona (Parc Vall d'Hebrón), Catalunya, Spain  41.426080   \n",
              "\n",
              "        lon  \n",
              "0  2.123897  \n",
              "1  2.114973  \n",
              "2  2.222245  \n",
              "3  2.184233  \n",
              "4  2.115150  \n",
              "5  2.204523  \n",
              "6  2.153822  \n",
              "7  2.153385  \n",
              "8  2.147992  "
            ],
            "text/html": [
              "\n",
              "  <div id=\"df-231af296-6af9-4f90-bae2-c70ad8bd4565\">\n",
              "    <div class=\"colab-df-container\">\n",
              "      <div>\n",
              "<style scoped>\n",
              "    .dataframe tbody tr th:only-of-type {\n",
              "        vertical-align: middle;\n",
              "    }\n",
              "\n",
              "    .dataframe tbody tr th {\n",
              "        vertical-align: top;\n",
              "    }\n",
              "\n",
              "    .dataframe thead th {\n",
              "        text-align: right;\n",
              "    }\n",
              "</style>\n",
              "<table border=\"1\" class=\"dataframe\">\n",
              "  <thead>\n",
              "    <tr style=\"text-align: right;\">\n",
              "      <th></th>\n",
              "      <th>id</th>\n",
              "      <th>nom</th>\n",
              "      <th>lat</th>\n",
              "      <th>lon</th>\n",
              "    </tr>\n",
              "  </thead>\n",
              "  <tbody>\n",
              "    <tr>\n",
              "      <th>0</th>\n",
              "      <td>11762</td>\n",
              "      <td>Barcelona, Catalunya, Spain</td>\n",
              "      <td>41.418430</td>\n",
              "      <td>2.123897</td>\n",
              "    </tr>\n",
              "    <tr>\n",
              "      <th>1</th>\n",
              "      <td>6681</td>\n",
              "      <td>l'Hospitalet de Llobregat, Catalunya, Spain</td>\n",
              "      <td>41.370502</td>\n",
              "      <td>2.114973</td>\n",
              "    </tr>\n",
              "    <tr>\n",
              "      <th>2</th>\n",
              "      <td>6677</td>\n",
              "      <td>Sant Adrià de Besòs, Catalunya, Spain</td>\n",
              "      <td>41.425620</td>\n",
              "      <td>2.222245</td>\n",
              "    </tr>\n",
              "    <tr>\n",
              "      <th>3</th>\n",
              "      <td>6674</td>\n",
              "      <td>Montcada i Reixac (Can Sant Joan), Catalunya, ...</td>\n",
              "      <td>41.469800</td>\n",
              "      <td>2.184233</td>\n",
              "    </tr>\n",
              "    <tr>\n",
              "      <th>4</th>\n",
              "      <td>10532</td>\n",
              "      <td>Barcelona (Palau Reial), Catalunya, Spain</td>\n",
              "      <td>41.387486</td>\n",
              "      <td>2.115150</td>\n",
              "    </tr>\n",
              "    <tr>\n",
              "      <th>5</th>\n",
              "      <td>10534</td>\n",
              "      <td>Barcelona (Poblenou), Catalunya, Spain</td>\n",
              "      <td>41.403880</td>\n",
              "      <td>2.204523</td>\n",
              "    </tr>\n",
              "    <tr>\n",
              "      <th>6</th>\n",
              "      <td>6669</td>\n",
              "      <td>Barcelona (Eixample), Catalunya, Spain</td>\n",
              "      <td>41.385340</td>\n",
              "      <td>2.153822</td>\n",
              "    </tr>\n",
              "    <tr>\n",
              "      <th>7</th>\n",
              "      <td>11758</td>\n",
              "      <td>Barcelona (Gràcia-St.Gervasi), Catalunya, Spain</td>\n",
              "      <td>41.398743</td>\n",
              "      <td>2.153385</td>\n",
              "    </tr>\n",
              "    <tr>\n",
              "      <th>8</th>\n",
              "      <td>10533</td>\n",
              "      <td>Barcelona (Parc Vall d'Hebrón), Catalunya, Spain</td>\n",
              "      <td>41.426080</td>\n",
              "      <td>2.147992</td>\n",
              "    </tr>\n",
              "  </tbody>\n",
              "</table>\n",
              "</div>\n",
              "      <button class=\"colab-df-convert\" onclick=\"convertToInteractive('df-231af296-6af9-4f90-bae2-c70ad8bd4565')\"\n",
              "              title=\"Convert this dataframe to an interactive table.\"\n",
              "              style=\"display:none;\">\n",
              "        \n",
              "  <svg xmlns=\"http://www.w3.org/2000/svg\" height=\"24px\"viewBox=\"0 0 24 24\"\n",
              "       width=\"24px\">\n",
              "    <path d=\"M0 0h24v24H0V0z\" fill=\"none\"/>\n",
              "    <path d=\"M18.56 5.44l.94 2.06.94-2.06 2.06-.94-2.06-.94-.94-2.06-.94 2.06-2.06.94zm-11 1L8.5 8.5l.94-2.06 2.06-.94-2.06-.94L8.5 2.5l-.94 2.06-2.06.94zm10 10l.94 2.06.94-2.06 2.06-.94-2.06-.94-.94-2.06-.94 2.06-2.06.94z\"/><path d=\"M17.41 7.96l-1.37-1.37c-.4-.4-.92-.59-1.43-.59-.52 0-1.04.2-1.43.59L10.3 9.45l-7.72 7.72c-.78.78-.78 2.05 0 2.83L4 21.41c.39.39.9.59 1.41.59.51 0 1.02-.2 1.41-.59l7.78-7.78 2.81-2.81c.8-.78.8-2.07 0-2.86zM5.41 20L4 18.59l7.72-7.72 1.47 1.35L5.41 20z\"/>\n",
              "  </svg>\n",
              "      </button>\n",
              "      \n",
              "  <style>\n",
              "    .colab-df-container {\n",
              "      display:flex;\n",
              "      flex-wrap:wrap;\n",
              "      gap: 12px;\n",
              "    }\n",
              "\n",
              "    .colab-df-convert {\n",
              "      background-color: #E8F0FE;\n",
              "      border: none;\n",
              "      border-radius: 50%;\n",
              "      cursor: pointer;\n",
              "      display: none;\n",
              "      fill: #1967D2;\n",
              "      height: 32px;\n",
              "      padding: 0 0 0 0;\n",
              "      width: 32px;\n",
              "    }\n",
              "\n",
              "    .colab-df-convert:hover {\n",
              "      background-color: #E2EBFA;\n",
              "      box-shadow: 0px 1px 2px rgba(60, 64, 67, 0.3), 0px 1px 3px 1px rgba(60, 64, 67, 0.15);\n",
              "      fill: #174EA6;\n",
              "    }\n",
              "\n",
              "    [theme=dark] .colab-df-convert {\n",
              "      background-color: #3B4455;\n",
              "      fill: #D2E3FC;\n",
              "    }\n",
              "\n",
              "    [theme=dark] .colab-df-convert:hover {\n",
              "      background-color: #434B5C;\n",
              "      box-shadow: 0px 1px 3px 1px rgba(0, 0, 0, 0.15);\n",
              "      filter: drop-shadow(0px 1px 2px rgba(0, 0, 0, 0.3));\n",
              "      fill: #FFFFFF;\n",
              "    }\n",
              "  </style>\n",
              "\n",
              "      <script>\n",
              "        const buttonEl =\n",
              "          document.querySelector('#df-231af296-6af9-4f90-bae2-c70ad8bd4565 button.colab-df-convert');\n",
              "        buttonEl.style.display =\n",
              "          google.colab.kernel.accessAllowed ? 'block' : 'none';\n",
              "\n",
              "        async function convertToInteractive(key) {\n",
              "          const element = document.querySelector('#df-231af296-6af9-4f90-bae2-c70ad8bd4565');\n",
              "          const dataTable =\n",
              "            await google.colab.kernel.invokeFunction('convertToInteractive',\n",
              "                                                     [key], {});\n",
              "          if (!dataTable) return;\n",
              "\n",
              "          const docLinkHtml = 'Like what you see? Visit the ' +\n",
              "            '<a target=\"_blank\" href=https://colab.research.google.com/notebooks/data_table.ipynb>data table notebook</a>'\n",
              "            + ' to learn more about interactive tables.';\n",
              "          element.innerHTML = '';\n",
              "          dataTable['output_type'] = 'display_data';\n",
              "          await google.colab.output.renderOutput(dataTable, element);\n",
              "          const docLink = document.createElement('div');\n",
              "          docLink.innerHTML = docLinkHtml;\n",
              "          element.appendChild(docLink);\n",
              "        }\n",
              "      </script>\n",
              "    </div>\n",
              "  </div>\n",
              "  "
            ]
          },
          "metadata": {},
          "execution_count": 11
        }
      ]
    },
    {
      "cell_type": "code",
      "source": [
        "stations_aqi = pd.DataFrame({'id':[], 'aqi':[], 'time':[]})\n",
        "for v in res['data']:\n",
        "  if v['aqi'] != '-' or v['aqi'] == '0':\n",
        "    values = [str(v['uid']), int(v['aqi']), v['time']['stime']]\n",
        "    stations_aqi.loc[stations_aqi.shape[0]] = values\n",
        "stations_aqi"
      ],
      "metadata": {
        "colab": {
          "base_uri": "https://localhost:8080/",
          "height": 238
        },
        "id": "JKOnr5sPeLIU",
        "outputId": "e29bc53a-45db-41df-8b62-2aabb2d2f389"
      },
      "execution_count": null,
      "outputs": [
        {
          "output_type": "execute_result",
          "data": {
            "text/plain": [
              "      id   aqi                 time\n",
              "0  11762  46.0  2022-03-11 11:00:00\n",
              "1  10533  37.0  2022-03-15 03:00:00\n",
              "2  10532  35.0  2022-03-15 03:00:00\n",
              "3   6681  35.0  2022-03-15 03:00:00\n",
              "4   6674  24.0  2022-03-11 11:00:00\n",
              "5   6677  20.0  2022-03-15 03:00:00"
            ],
            "text/html": [
              "\n",
              "  <div id=\"df-ebb0159b-2adb-462d-9fd8-e52ec8fdf201\">\n",
              "    <div class=\"colab-df-container\">\n",
              "      <div>\n",
              "<style scoped>\n",
              "    .dataframe tbody tr th:only-of-type {\n",
              "        vertical-align: middle;\n",
              "    }\n",
              "\n",
              "    .dataframe tbody tr th {\n",
              "        vertical-align: top;\n",
              "    }\n",
              "\n",
              "    .dataframe thead th {\n",
              "        text-align: right;\n",
              "    }\n",
              "</style>\n",
              "<table border=\"1\" class=\"dataframe\">\n",
              "  <thead>\n",
              "    <tr style=\"text-align: right;\">\n",
              "      <th></th>\n",
              "      <th>id</th>\n",
              "      <th>aqi</th>\n",
              "      <th>time</th>\n",
              "    </tr>\n",
              "  </thead>\n",
              "  <tbody>\n",
              "    <tr>\n",
              "      <th>0</th>\n",
              "      <td>11762</td>\n",
              "      <td>46.0</td>\n",
              "      <td>2022-03-11 11:00:00</td>\n",
              "    </tr>\n",
              "    <tr>\n",
              "      <th>1</th>\n",
              "      <td>10533</td>\n",
              "      <td>37.0</td>\n",
              "      <td>2022-03-15 03:00:00</td>\n",
              "    </tr>\n",
              "    <tr>\n",
              "      <th>2</th>\n",
              "      <td>10532</td>\n",
              "      <td>35.0</td>\n",
              "      <td>2022-03-15 03:00:00</td>\n",
              "    </tr>\n",
              "    <tr>\n",
              "      <th>3</th>\n",
              "      <td>6681</td>\n",
              "      <td>35.0</td>\n",
              "      <td>2022-03-15 03:00:00</td>\n",
              "    </tr>\n",
              "    <tr>\n",
              "      <th>4</th>\n",
              "      <td>6674</td>\n",
              "      <td>24.0</td>\n",
              "      <td>2022-03-11 11:00:00</td>\n",
              "    </tr>\n",
              "    <tr>\n",
              "      <th>5</th>\n",
              "      <td>6677</td>\n",
              "      <td>20.0</td>\n",
              "      <td>2022-03-15 03:00:00</td>\n",
              "    </tr>\n",
              "  </tbody>\n",
              "</table>\n",
              "</div>\n",
              "      <button class=\"colab-df-convert\" onclick=\"convertToInteractive('df-ebb0159b-2adb-462d-9fd8-e52ec8fdf201')\"\n",
              "              title=\"Convert this dataframe to an interactive table.\"\n",
              "              style=\"display:none;\">\n",
              "        \n",
              "  <svg xmlns=\"http://www.w3.org/2000/svg\" height=\"24px\"viewBox=\"0 0 24 24\"\n",
              "       width=\"24px\">\n",
              "    <path d=\"M0 0h24v24H0V0z\" fill=\"none\"/>\n",
              "    <path d=\"M18.56 5.44l.94 2.06.94-2.06 2.06-.94-2.06-.94-.94-2.06-.94 2.06-2.06.94zm-11 1L8.5 8.5l.94-2.06 2.06-.94-2.06-.94L8.5 2.5l-.94 2.06-2.06.94zm10 10l.94 2.06.94-2.06 2.06-.94-2.06-.94-.94-2.06-.94 2.06-2.06.94z\"/><path d=\"M17.41 7.96l-1.37-1.37c-.4-.4-.92-.59-1.43-.59-.52 0-1.04.2-1.43.59L10.3 9.45l-7.72 7.72c-.78.78-.78 2.05 0 2.83L4 21.41c.39.39.9.59 1.41.59.51 0 1.02-.2 1.41-.59l7.78-7.78 2.81-2.81c.8-.78.8-2.07 0-2.86zM5.41 20L4 18.59l7.72-7.72 1.47 1.35L5.41 20z\"/>\n",
              "  </svg>\n",
              "      </button>\n",
              "      \n",
              "  <style>\n",
              "    .colab-df-container {\n",
              "      display:flex;\n",
              "      flex-wrap:wrap;\n",
              "      gap: 12px;\n",
              "    }\n",
              "\n",
              "    .colab-df-convert {\n",
              "      background-color: #E8F0FE;\n",
              "      border: none;\n",
              "      border-radius: 50%;\n",
              "      cursor: pointer;\n",
              "      display: none;\n",
              "      fill: #1967D2;\n",
              "      height: 32px;\n",
              "      padding: 0 0 0 0;\n",
              "      width: 32px;\n",
              "    }\n",
              "\n",
              "    .colab-df-convert:hover {\n",
              "      background-color: #E2EBFA;\n",
              "      box-shadow: 0px 1px 2px rgba(60, 64, 67, 0.3), 0px 1px 3px 1px rgba(60, 64, 67, 0.15);\n",
              "      fill: #174EA6;\n",
              "    }\n",
              "\n",
              "    [theme=dark] .colab-df-convert {\n",
              "      background-color: #3B4455;\n",
              "      fill: #D2E3FC;\n",
              "    }\n",
              "\n",
              "    [theme=dark] .colab-df-convert:hover {\n",
              "      background-color: #434B5C;\n",
              "      box-shadow: 0px 1px 3px 1px rgba(0, 0, 0, 0.15);\n",
              "      filter: drop-shadow(0px 1px 2px rgba(0, 0, 0, 0.3));\n",
              "      fill: #FFFFFF;\n",
              "    }\n",
              "  </style>\n",
              "\n",
              "      <script>\n",
              "        const buttonEl =\n",
              "          document.querySelector('#df-ebb0159b-2adb-462d-9fd8-e52ec8fdf201 button.colab-df-convert');\n",
              "        buttonEl.style.display =\n",
              "          google.colab.kernel.accessAllowed ? 'block' : 'none';\n",
              "\n",
              "        async function convertToInteractive(key) {\n",
              "          const element = document.querySelector('#df-ebb0159b-2adb-462d-9fd8-e52ec8fdf201');\n",
              "          const dataTable =\n",
              "            await google.colab.kernel.invokeFunction('convertToInteractive',\n",
              "                                                     [key], {});\n",
              "          if (!dataTable) return;\n",
              "\n",
              "          const docLinkHtml = 'Like what you see? Visit the ' +\n",
              "            '<a target=\"_blank\" href=https://colab.research.google.com/notebooks/data_table.ipynb>data table notebook</a>'\n",
              "            + ' to learn more about interactive tables.';\n",
              "          element.innerHTML = '';\n",
              "          dataTable['output_type'] = 'display_data';\n",
              "          await google.colab.output.renderOutput(dataTable, element);\n",
              "          const docLink = document.createElement('div');\n",
              "          docLink.innerHTML = docLinkHtml;\n",
              "          element.appendChild(docLink);\n",
              "        }\n",
              "      </script>\n",
              "    </div>\n",
              "  </div>\n",
              "  "
            ]
          },
          "metadata": {},
          "execution_count": 12
        }
      ]
    },
    {
      "cell_type": "markdown",
      "source": [
        "### Stores"
      ],
      "metadata": {
        "id": "VEHGaUxhcD2K"
      }
    },
    {
      "cell_type": "code",
      "source": [
        "store_names = [\n",
        "  'bodevici',\n",
        "  'Flax & Kale'\n",
        "]\n",
        "store_ids = [\n",
        "  1000,\n",
        "  2000,\n",
        "]\n",
        "store_coords = [\n",
        "  (41.403290, 2.158894),\n",
        "  (41.389024, 2.167796)\n",
        "]\n",
        "\n",
        "store_lats, store_lons = zip(*store_coords)\n",
        "\n",
        "stores = pd.DataFrame({'id': store_ids,\n",
        "                          'nom': store_names,\n",
        "                          'lat': store_lats,\n",
        "                          'lon': store_lons})"
      ],
      "metadata": {
        "id": "dFF1CReqbydp"
      },
      "execution_count": null,
      "outputs": []
    },
    {
      "cell_type": "code",
      "source": [
        "stores"
      ],
      "metadata": {
        "colab": {
          "base_uri": "https://localhost:8080/",
          "height": 112
        },
        "id": "qu1TqGVEdlRV",
        "outputId": "a267063c-3fe4-4132-b1e1-ddd76b5f2cb8"
      },
      "execution_count": null,
      "outputs": [
        {
          "output_type": "execute_result",
          "data": {
            "text/plain": [
              "     id          nom        lat       lon\n",
              "0  1000     bodevici  41.403290  2.158894\n",
              "1  2000  Flax & Kale  41.389024  2.167796"
            ],
            "text/html": [
              "\n",
              "  <div id=\"df-f05ab650-c2f9-4f93-b4cf-fb523926344f\">\n",
              "    <div class=\"colab-df-container\">\n",
              "      <div>\n",
              "<style scoped>\n",
              "    .dataframe tbody tr th:only-of-type {\n",
              "        vertical-align: middle;\n",
              "    }\n",
              "\n",
              "    .dataframe tbody tr th {\n",
              "        vertical-align: top;\n",
              "    }\n",
              "\n",
              "    .dataframe thead th {\n",
              "        text-align: right;\n",
              "    }\n",
              "</style>\n",
              "<table border=\"1\" class=\"dataframe\">\n",
              "  <thead>\n",
              "    <tr style=\"text-align: right;\">\n",
              "      <th></th>\n",
              "      <th>id</th>\n",
              "      <th>nom</th>\n",
              "      <th>lat</th>\n",
              "      <th>lon</th>\n",
              "    </tr>\n",
              "  </thead>\n",
              "  <tbody>\n",
              "    <tr>\n",
              "      <th>0</th>\n",
              "      <td>1000</td>\n",
              "      <td>bodevici</td>\n",
              "      <td>41.403290</td>\n",
              "      <td>2.158894</td>\n",
              "    </tr>\n",
              "    <tr>\n",
              "      <th>1</th>\n",
              "      <td>2000</td>\n",
              "      <td>Flax &amp; Kale</td>\n",
              "      <td>41.389024</td>\n",
              "      <td>2.167796</td>\n",
              "    </tr>\n",
              "  </tbody>\n",
              "</table>\n",
              "</div>\n",
              "      <button class=\"colab-df-convert\" onclick=\"convertToInteractive('df-f05ab650-c2f9-4f93-b4cf-fb523926344f')\"\n",
              "              title=\"Convert this dataframe to an interactive table.\"\n",
              "              style=\"display:none;\">\n",
              "        \n",
              "  <svg xmlns=\"http://www.w3.org/2000/svg\" height=\"24px\"viewBox=\"0 0 24 24\"\n",
              "       width=\"24px\">\n",
              "    <path d=\"M0 0h24v24H0V0z\" fill=\"none\"/>\n",
              "    <path d=\"M18.56 5.44l.94 2.06.94-2.06 2.06-.94-2.06-.94-.94-2.06-.94 2.06-2.06.94zm-11 1L8.5 8.5l.94-2.06 2.06-.94-2.06-.94L8.5 2.5l-.94 2.06-2.06.94zm10 10l.94 2.06.94-2.06 2.06-.94-2.06-.94-.94-2.06-.94 2.06-2.06.94z\"/><path d=\"M17.41 7.96l-1.37-1.37c-.4-.4-.92-.59-1.43-.59-.52 0-1.04.2-1.43.59L10.3 9.45l-7.72 7.72c-.78.78-.78 2.05 0 2.83L4 21.41c.39.39.9.59 1.41.59.51 0 1.02-.2 1.41-.59l7.78-7.78 2.81-2.81c.8-.78.8-2.07 0-2.86zM5.41 20L4 18.59l7.72-7.72 1.47 1.35L5.41 20z\"/>\n",
              "  </svg>\n",
              "      </button>\n",
              "      \n",
              "  <style>\n",
              "    .colab-df-container {\n",
              "      display:flex;\n",
              "      flex-wrap:wrap;\n",
              "      gap: 12px;\n",
              "    }\n",
              "\n",
              "    .colab-df-convert {\n",
              "      background-color: #E8F0FE;\n",
              "      border: none;\n",
              "      border-radius: 50%;\n",
              "      cursor: pointer;\n",
              "      display: none;\n",
              "      fill: #1967D2;\n",
              "      height: 32px;\n",
              "      padding: 0 0 0 0;\n",
              "      width: 32px;\n",
              "    }\n",
              "\n",
              "    .colab-df-convert:hover {\n",
              "      background-color: #E2EBFA;\n",
              "      box-shadow: 0px 1px 2px rgba(60, 64, 67, 0.3), 0px 1px 3px 1px rgba(60, 64, 67, 0.15);\n",
              "      fill: #174EA6;\n",
              "    }\n",
              "\n",
              "    [theme=dark] .colab-df-convert {\n",
              "      background-color: #3B4455;\n",
              "      fill: #D2E3FC;\n",
              "    }\n",
              "\n",
              "    [theme=dark] .colab-df-convert:hover {\n",
              "      background-color: #434B5C;\n",
              "      box-shadow: 0px 1px 3px 1px rgba(0, 0, 0, 0.15);\n",
              "      filter: drop-shadow(0px 1px 2px rgba(0, 0, 0, 0.3));\n",
              "      fill: #FFFFFF;\n",
              "    }\n",
              "  </style>\n",
              "\n",
              "      <script>\n",
              "        const buttonEl =\n",
              "          document.querySelector('#df-f05ab650-c2f9-4f93-b4cf-fb523926344f button.colab-df-convert');\n",
              "        buttonEl.style.display =\n",
              "          google.colab.kernel.accessAllowed ? 'block' : 'none';\n",
              "\n",
              "        async function convertToInteractive(key) {\n",
              "          const element = document.querySelector('#df-f05ab650-c2f9-4f93-b4cf-fb523926344f');\n",
              "          const dataTable =\n",
              "            await google.colab.kernel.invokeFunction('convertToInteractive',\n",
              "                                                     [key], {});\n",
              "          if (!dataTable) return;\n",
              "\n",
              "          const docLinkHtml = 'Like what you see? Visit the ' +\n",
              "            '<a target=\"_blank\" href=https://colab.research.google.com/notebooks/data_table.ipynb>data table notebook</a>'\n",
              "            + ' to learn more about interactive tables.';\n",
              "          element.innerHTML = '';\n",
              "          dataTable['output_type'] = 'display_data';\n",
              "          await google.colab.output.renderOutput(dataTable, element);\n",
              "          const docLink = document.createElement('div');\n",
              "          docLink.innerHTML = docLinkHtml;\n",
              "          element.appendChild(docLink);\n",
              "        }\n",
              "      </script>\n",
              "    </div>\n",
              "  </div>\n",
              "  "
            ]
          },
          "metadata": {},
          "execution_count": 14
        }
      ]
    },
    {
      "cell_type": "markdown",
      "source": [
        "### BallTree"
      ],
      "metadata": {
        "id": "lakoCFL3b6hj"
      }
    },
    {
      "cell_type": "code",
      "source": [
        "earth_radius = 6371008"
      ],
      "metadata": {
        "id": "XeC0eSrchcpe"
      },
      "execution_count": null,
      "outputs": []
    },
    {
      "cell_type": "code",
      "source": [
        "stations_tree = BallTree(\n",
        "  np.deg2rad(stations[['lat', 'lon']]),\n",
        "  metric = 'haversine'\n",
        ")"
      ],
      "metadata": {
        "id": "PuWLr-n7M0gf"
      },
      "execution_count": null,
      "outputs": []
    },
    {
      "cell_type": "code",
      "source": [
        "min_store_idx = 0\n",
        "max_store_idx = 1"
      ],
      "metadata": {
        "id": "DrrvX2BLnuM9"
      },
      "execution_count": null,
      "outputs": []
    },
    {
      "cell_type": "code",
      "source": [
        "dist, idx = stations_tree.query(stores.loc[min_store_idx:max_store_idx, ['lat', 'lon']].mul(pi/180).values.reshape(-1,2), k=8) #query_radius?\n",
        "dist *= earth_radius"
      ],
      "metadata": {
        "id": "dZLf6Us2OxvN"
      },
      "execution_count": null,
      "outputs": []
    },
    {
      "cell_type": "code",
      "source": [
        "near_stations = {}\n",
        "for i, store_idx in enumerate(stores.id[min_store_idx:max_store_idx+1]):\n",
        "  near_stations[store_idx] = [(stations.at[station_idx,'id'], np.round(d,2)) for station_idx, d in zip(idx[i], dist[i])]\n",
        "near_stations"
      ],
      "metadata": {
        "colab": {
          "base_uri": "https://localhost:8080/"
        },
        "id": "m9sJ2eyKjS-P",
        "outputId": "889ce586-679d-4d2d-84e5-f809d8295047"
      },
      "execution_count": null,
      "outputs": [
        {
          "output_type": "execute_result",
          "data": {
            "text/plain": [
              "{1000: [(11758, 683.19),\n",
              "  (6669, 2040.3),\n",
              "  (10533, 2692.27),\n",
              "  (11762, 3369.28),\n",
              "  (10534, 3806.18),\n",
              "  (10532, 4050.03),\n",
              "  (6681, 5168.96),\n",
              "  (6677, 5837.24)],\n",
              " 2000: [(6669, 1235.66),\n",
              "  (11758, 1616.47),\n",
              "  (10534, 3480.48),\n",
              "  (10532, 4395.28),\n",
              "  (10533, 4439.14),\n",
              "  (6681, 4864.75),\n",
              "  (11762, 4908.86),\n",
              "  (6677, 6097.51)]}"
            ]
          },
          "metadata": {},
          "execution_count": 19
        }
      ]
    },
    {
      "cell_type": "code",
      "source": [
        "# get stores' estimated aqi\n",
        "available_stations = set(stations_aqi.id)\n",
        "for key, vals in near_stations.items():\n",
        "  station_aqis_dist = []\n",
        "  total_dist = 0\n",
        "  for station_id, distance in vals:\n",
        "    if str(station_id) in available_stations:\n",
        "      station_aqis_dist.append((stations_aqi.loc[stations_aqi.id == str(station_id), 'aqi'].values, distance))\n",
        "      total_dist += distance\n",
        "    else:\n",
        "      print(f'Warning: Station {station_id} has no available AQI measure')\n",
        "  store_aqi = np.sum([aqi*(1-distance/total_dist) for aqi, distance in station_aqis_dist])/(len(station_aqis_dist)-1)\n",
        "  print(key, store_aqi, sep=': ')\n"
      ],
      "metadata": {
        "colab": {
          "base_uri": "https://localhost:8080/"
        },
        "id": "k4TaRaAacUBe",
        "outputId": "1267e6b0-ae2f-4cc1-dd86-21637eea2f55"
      },
      "execution_count": null,
      "outputs": [
        {
          "output_type": "stream",
          "name": "stdout",
          "text": [
            "Warning: Station 11758 has no available AQI measure\n",
            "Warning: Station 6669 has no available AQI measure\n",
            "Warning: Station 10534 has no available AQI measure\n",
            "1000: 35.03405211153824\n",
            "Warning: Station 6669 has no available AQI measure\n",
            "Warning: Station 11758 has no available AQI measure\n",
            "Warning: Station 10534 has no available AQI measure\n",
            "2000: 34.78927631211461\n"
          ]
        }
      ]
    },
    {
      "cell_type": "code",
      "source": [
        ""
      ],
      "metadata": {
        "id": "WJ_htXXGbDHM"
      },
      "execution_count": null,
      "outputs": []
    }
  ]
}